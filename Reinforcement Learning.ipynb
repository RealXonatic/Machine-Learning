{
 "nbformat": 4,
 "nbformat_minor": 0,
 "metadata": {
  "colab": {
   "provenance": [],
   "authorship_tag": "ABX9TyPk3cfqVPdrYvV/ygMWaI/i"
  },
  "kernelspec": {
   "name": "python3",
   "display_name": "Python 3 (ipykernel)",
   "language": "python"
  },
  "language_info": {
   "name": "python"
  }
 },
 "cells": [
  {
   "cell_type": "markdown",
   "source": [
    "**Libraries**\n",
    "\n"
   ],
   "metadata": {
    "id": "pirKNXxZk2Bd"
   }
  },
  {
   "cell_type": "code",
   "metadata": {
    "id": "PATezzl4kmFw",
    "ExecuteTime": {
     "end_time": "2024-11-21T10:58:57.709323Z",
     "start_time": "2024-11-21T10:58:57.707464Z"
    }
   },
   "source": [
    "import numpy as np\n",
    "import random\n",
    "import matplotlib.pyplot as plt"
   ],
   "outputs": [],
   "execution_count": 25
  },
  {
   "cell_type": "markdown",
   "source": [
    "**MDP class**"
   ],
   "metadata": {
    "id": "6pr1EnoQk_nr"
   }
  },
  {
   "cell_type": "code",
   "source": [
    "# MDP class\n",
    "# The class takes four parameters: transition_probs, rewards, initial_state, and terminal_states.\n",
    "\n",
    "# transition_probs: dictionary that defines the probabilities of transitioning from one state to another given a certain action.\n",
    "# rewards: dictionary that specifies the rewards received when transitioning from one state to another using a particular action.\n",
    "# initial_state: starting state of the MDP.\n",
    "# terminal_states: list of states that are considered terminal, meaning the process ends when these states are reached.\n",
    "\n",
    "class MDP:\n",
    "    def __init__(self, transition_probs, rewards, initial_state, terminal_states=None):\n",
    "        self.transition_probs = transition_probs\n",
    "        self.rewards = rewards\n",
    "        self.initial_state = initial_state\n",
    "        self.state = initial_state\n",
    "        self.terminal_states = terminal_states if terminal_states else []\n",
    "    \n",
    "    #retourner tous les états possibles\n",
    "    def get_all_states(self):\n",
    "        return list(self.transition_probs.keys())\n",
    "    \n",
    "    #A partir d'un état, retourner les actions possibles\n",
    "    def get_possible_actions(self, state):\n",
    "        return list(self.transition_probs[state].keys())\n",
    "    #\n",
    "    def get_next_states(self, state, action):\n",
    "        return self.transition_probs[state][action]\n",
    "    \n",
    "    #retourner la probabilité de transition sachant s,a et s'\n",
    "    def get_transition_prob(self, state, action, next_state):\n",
    "        return self.transition_probs[state][action].get(next_state, 0) # Returns 0 if next_state is not found.\n",
    "    \n",
    "    #retourner la récompenese sachant s,a et s'\n",
    "    def get_reward(self, state, action, next_state):\n",
    "        return self.rewards.get(state, {}).get(action, {}).get(next_state, 0)\n",
    "    \n",
    "    #mettre le state actuel au state initial (un reset)\n",
    "    def reset(self):\n",
    "        self.state = self.initial_state\n",
    "        return self.state\n",
    "    \n",
    "    #retourne les états finaux\n",
    "    def is_terminal(self, state):\n",
    "        return state in self.terminal_states\n",
    "    \n",
    "    #Retourne l'état suivant le plus probable à partir d'un état et d'une action.\n",
    "    def get_next_state(self, state, action):\n",
    "        next_states = self.transition_probs[state][action]\n",
    "        next_state = max(next_states, key=next_states.get)\n",
    "        return next_state\n",
    "    \n",
    "    #Effectue une étape dans le MDP : met à jour l'état actuel en fonction \n",
    "    # de l'action, retourne l'état suivant, la récompense associée, et un \n",
    "    # indicateur si l'état suivant est terminal.\n",
    "    def step(self, action):\n",
    "        next_states_probs = self.transition_probs[self.state][action]\n",
    "        next_states = list(next_states_probs.keys())\n",
    "        probabilities = list(next_states_probs.values())\n",
    "        next_state = np.random.choice(next_states, p=probabilities)\n",
    "        reward = self.get_reward(self.state, action, next_state)\n",
    "        self.state = next_state\n",
    "        done = self.is_terminal(next_state)\n",
    "        return next_state, reward, done"
   ],
   "metadata": {
    "id": "vJ8BrmeJk0X8",
    "ExecuteTime": {
     "end_time": "2024-11-21T10:58:57.748402Z",
     "start_time": "2024-11-21T10:58:57.743012Z"
    }
   },
   "outputs": [],
   "execution_count": 26
  },
  {
   "cell_type": "markdown",
   "source": [
    "**Define the transition probabilities and rewards**"
   ],
   "metadata": {
    "id": "9AFdD8-vlXwz"
   }
  },
  {
   "cell_type": "code",
   "source": [
    "transition_probs = {\n",
    "    's0': {\n",
    "        'a0': {'s0': 0.6, 's1': 0.4},\n",
    "        'a1': {'s1': 0.8, 's2': 0.2}\n",
    "    },\n",
    "    's1': {\n",
    "        'a0': {'s0': 0.3, 's2': 0.7},\n",
    "        'a1': {'s2': 1.0}\n",
    "    },\n",
    "    's2': {\n",
    "        'a0': {'s1': 0.5, 's2': 0.5},\n",
    "        'a1': {'s0': 0.3, 's2': 0.7}\n",
    "    }\n",
    "}\n",
    "\n",
    "rewards = {\n",
    "    's0': {\n",
    "        'a0': {'s0': 0, 's1': 0},\n",
    "        'a1': {'s1': 2, 's2': 0}\n",
    "    },\n",
    "    's1': {\n",
    "        'a0': {'s0': 0, 's2': 3},\n",
    "        'a1': {'s2': 0}\n",
    "    },\n",
    "    's2': {\n",
    "        'a0': {'s1': 0, 's2': 0},\n",
    "        'a1': {'s0': -2, 's2': 0}\n",
    "    }\n",
    "}\n",
    "\n",
    "states = ['s0', 's1', 's2']\n",
    "\n",
    "actions = ['a0', 'a1'] #seulement 2 actions possibles"
   ],
   "metadata": {
    "id": "5hMOiBfBldtE",
    "ExecuteTime": {
     "end_time": "2024-11-21T10:58:57.756201Z",
     "start_time": "2024-11-21T10:58:57.753085Z"
    }
   },
   "outputs": [],
   "execution_count": 27
  },
  {
   "cell_type": "markdown",
   "source": [
    "**Getting familiar with MDP class**"
   ],
   "metadata": {
    "id": "8lRakc9TnRZB"
   }
  },
  {
   "cell_type": "code",
   "source": [
    "# Create the MDP instance\n",
    "mdp = MDP(transition_probs, rewards, initial_state ='s0', terminal_states=[])\n",
    "\n",
    "# Get all states\n",
    "all_states = mdp.get_all_states()\n",
    "print(f\"All states: {all_states}\")\n",
    "\n",
    "# Get possible actions from state 's0'\n",
    "possible_actions = mdp.get_possible_actions('s0')\n",
    "print(f\"Possible actions from 's0': {possible_actions}\")\n",
    "    \n",
    "# Get next states for action 'a0' from state 's0'\n",
    "next_states = mdp.get_next_states('s0', 'a0')\n",
    "print(f\"Next states for action 'a0' from state 's0': {next_states}\")\n",
    "\n",
    "# Get transition probability from 's0' to 's1' with action 'a0'\n",
    "transition_prob = mdp.get_transition_prob('s0', 'a0', 's1')\n",
    "print(f\"Transition probability from 's0' to 's1' with action 'a0': {transition_prob}\")\n",
    "\n",
    "# Get the reward of transitioning from state to next state by taking action\n",
    "reward = mdp.get_reward('s0', 'a0', 's1')\n",
    "print(f\"Reward from 's0' to 's1' with action 'a0': {reward}\")\n",
    "\n",
    "state,reward, done = mdp.step('a0')\n",
    "print(f\"Current state: {mdp.state}\")"
   ],
   "metadata": {
    "id": "yz_T2yFqnTnF",
    "ExecuteTime": {
     "end_time": "2024-11-21T10:58:57.763380Z",
     "start_time": "2024-11-21T10:58:57.757417Z"
    }
   },
   "outputs": [
    {
     "name": "stdout",
     "output_type": "stream",
     "text": [
      "All states: ['s0', 's1', 's2']\n",
      "Possible actions from 's0': ['a0', 'a1']\n",
      "Next states for action 'a0' from state 's0': {'s0': 0.6, 's1': 0.4}\n",
      "Transition probability from 's0' to 's1' with action 'a0': 0.4\n",
      "Reward from 's0' to 's1' with action 'a0': 0\n",
      "Current state: s0\n"
     ]
    }
   ],
   "execution_count": 28
  },
  {
   "cell_type": "markdown",
   "source": [
    "# **Solving the MDP with Value Iteration algorithm**"
   ],
   "metadata": {
    "id": "ZrxAgBrwowG_"
   }
  },
  {
   "cell_type": "code",
   "source": [
    "def initialize_value_function(states):\n",
    "    \"\"\"\n",
    "    Inputs:\n",
    "      states: list of all states in the MDP.\n",
    "\n",
    "    Returns:\n",
    "      dict: dictionary with states as keys and 0 as initial values.\n",
    "    \"\"\"\n",
    "    return {state: 0 for state in states}\n",
    "    # YOUR CODE HERE\n",
    "\n",
    "print(initialize_value_function(all_states))    "
   ],
   "metadata": {
    "id": "MrdwfhAInSAK",
    "ExecuteTime": {
     "end_time": "2024-11-21T10:58:57.766299Z",
     "start_time": "2024-11-21T10:58:57.764301Z"
    }
   },
   "outputs": [
    {
     "name": "stdout",
     "output_type": "stream",
     "text": [
      "{'s0': 0, 's1': 0, 's2': 0}\n"
     ]
    }
   ],
   "execution_count": 29
  },
  {
   "cell_type": "code",
   "source": [
    "def update_value_function(mdp, value_function, discount_factor):\n",
    "    \"\"\"\n",
    "    Inputs:\n",
    "      mdp: your mdp instance.\n",
    "      value_function: current value function.\n",
    "      discount_factor: discount factor for future rewards.\n",
    "\n",
    "    Returns:\n",
    "      dict: updated value function.\n",
    "    \"\"\"\n",
    "    new_value_function = value_function.copy()\n",
    "\n",
    "    for state in mdp.get_all_states():\n",
    "        if not mdp.is_terminal(state):\n",
    "            max_value = float('-inf')\n",
    "            for action in mdp.get_possible_actions(state):\n",
    "                # initialize the expected value: YOUR CODE HERE\n",
    "                expected_value = 0\n",
    "                for next_state in mdp.get_next_states(state, action):\n",
    "                    transition_prob = mdp.get_transition_prob(state, action, next_state)\n",
    "                    reward = mdp.get_reward(state, action, next_state)\n",
    "                    expected_value = expected_value + transition_prob *(reward + discount_factor * value_function[next_state])\n",
    "                #max_value = YOUR CODE HERE\n",
    "                max_value = max(max_value, expected_value)\n",
    "            new_value_function[state] = max_value\n",
    "\n",
    "    return new_value_function"
   ],
   "metadata": {
    "id": "rUbAAQRonaJ4",
    "ExecuteTime": {
     "end_time": "2024-11-21T10:58:57.770093Z",
     "start_time": "2024-11-21T10:58:57.767011Z"
    }
   },
   "outputs": [],
   "execution_count": 30
  },
  {
   "cell_type": "code",
   "source": [
    "def value_iteration(mdp, discount_factor, threshold):\n",
    "    \"\"\"\n",
    "    Inputs:\n",
    "      mdp: your mdp instance.\n",
    "      discount_factor: discount factor for future rewards.\n",
    "      threshold: threshold for convergence.\n",
    "\n",
    "    Returns:\n",
    "      dict: optimal value function.\n",
    "      list: history of value functions over iterations.\n",
    "    \"\"\"\n",
    "    # initialize the value function: YOUR CODE HERE\n",
    "    value_function = initialize_value_function(mdp.get_all_states())\n",
    "    history = []\n",
    "\n",
    "    # iterate until convergence\n",
    "    while True:\n",
    "        new_value_function = update_value_function(mdp, value_function, discount_factor)\n",
    "        history.append(new_value_function.copy())\n",
    "    \n",
    "        # Check for convergence (max change across all states)\n",
    "        delta = max(abs(new_value_function[state] - value_function[state])\n",
    "                    for state in value_function)\n",
    "    \n",
    "        if delta < threshold:\n",
    "            break  # Convergence achieved\n",
    "    \n",
    "        value_function = new_value_function  # Update the value function for the next iteration\n",
    "\n",
    "\n",
    "    return value_function, history"
   ],
   "metadata": {
    "id": "VgPXDDAHncFZ",
    "ExecuteTime": {
     "end_time": "2024-11-21T10:58:57.789760Z",
     "start_time": "2024-11-21T10:58:57.787100Z"
    }
   },
   "outputs": [],
   "execution_count": 31
  },
  {
   "cell_type": "code",
   "source": [
    "# plot convergence\n",
    "value_function, history = value_iteration(mdp, discount_factor=0.9, threshold=0.01)\n",
    "print(value_function)\n",
    "\n",
    "# Préparer les données pour le tracé\n",
    "iterations = list(range(1, len(history) + 1))\n",
    "states = list(history[0].keys())\n",
    "\n",
    "# Tracer la courbe de convergence pour chaque état\n",
    "for state in states:\n",
    "    values = [vf[state] for vf in history]\n",
    "    plt.plot(iterations, values, label=f\"State {state}\")\n",
    "\n",
    "# Configurer le graphique\n",
    "plt.xlabel(\"Iterations\")\n",
    "plt.ylabel(\"Value (Vk)\")\n",
    "plt.title(\"Convergence of Value Functions for Each State\")\n",
    "plt.legend()\n",
    "plt.grid(True)\n",
    "plt.show()\n",
    "    "
   ],
   "metadata": {
    "id": "E796qNlHngSY",
    "ExecuteTime": {
     "end_time": "2024-11-21T10:58:57.901052Z",
     "start_time": "2024-11-21T10:58:57.805401Z"
    }
   },
   "outputs": [
    {
     "name": "stdout",
     "output_type": "stream",
     "text": [
      "{'s0': 10.271761275909356, 's1': 10.01397317052368, 's2': 8.17532673958186}\n"
     ]
    },
    {
     "data": {
      "text/plain": [
       "<Figure size 640x480 with 1 Axes>"
      ],
      "image/png": "[encoded data removed]"
     },
     "metadata": {},
     "output_type": "display_data"
    }
   ],
   "execution_count": 32
  },
  {
   "metadata": {},
   "cell_type": "markdown",
   "source": [
    "**Remarque**\n",
    "\n",
    "La valeur de convergence  V_k(s)  pour un état  s  représente l’espérance totale des récompenses futures que l’agent peut accumuler en partant de cet état et en suivant une politique optimale.\n",
    "\n",
    "Une valeur élevée nous dit l'état favorable, tandis qu'une valeur faible nous dit qu'ils sont moins profitables\n",
    "Avec les valeurs qu'on pour chaque état : {'s0': 10.271761275909356, 's1': 10.01397317052368, 's2': 8.17532673958186}\n",
    "* La valeur la plus élevée est pour s0 et la plus faible est pour s2\n",
    "\n",
    "Ces valeurs peuvent être utilisées pour orienter les transitions de l’agent. L’agent préférera les actions qui le conduisent vers des états avec des valeurs  V(s)  élevées."
   ]
  },
  {
   "cell_type": "markdown",
   "source": [
    "**Question 1**\n",
    "What is the purpose of the discount factor γ in the value iteration algorithm ? What values can it\n",
    "take ?\n",
    "\n",
    "Le facteur d’actualisation  γ  est essentiel dans l’algorithme, car il contrôle l’importance que l’agent accorde aux récompenses futures par rapport aux récompenses immédiates. En gros :\n",
    "* Si  γ  est proche de 1, l’agent réfléchit sur le long terme. Il prendra en compte les récompenses qu’il pourrait obtenir bien plus tard.\n",
    "* Si γ  est proche de 0, l’agent se concentre uniquement sur les gains immédiats, sans vraiment s’intéresser à ce qui peut se passer après.\n"
   ],
   "metadata": {
    "id": "QvEKucZHoVd5"
   }
  },
  {
   "cell_type": "markdown",
   "source": [
    "**Question 2** Explain the stopping criterion. Would it be necessary if the MDP had a terminal state ? \n",
    "\n",
    "L’algorithme d’itération de valeur s’arrête lorsqu’il n’y a presque plus de changement dans les valeurs  V(s)  entre deux itérations. En d’autres termes, dès que la différence entre  Vk(s)  et  V{k-1}(s)  pour tous les états devient très petite (en dessous d’un seuil threshold ), on considère que l’algorithme a convergé.\n",
    "\n",
    "Si le MDP a un terminal state alors on ne peut pas commencer à partir de ce state. "
   ],
   "metadata": {
    "id": "1rEsBGPhoZbP"
   }
  },
  {
   "cell_type": "markdown",
   "source": [
    "**Question 3**\n",
    "\n",
    "La fonction get_optimal_policy calcule la meilleure action pour chaque état en maximisant l’espérance des récompenses futures pondérées par le facteur d’actualisation. (gamma)\n"
   ],
   "metadata": {
    "id": "xQ-VnKzoobno"
   }
  },
  {
   "cell_type": "code",
   "source": [
    "def get_optimal_policy(mdp, value_function, discount_factor):\n",
    "\n",
    "    # YOUR CODE HERE\n",
    "    policy = {}\n",
    "    for state in mdp.get_all_states():\n",
    "        if not mdp.is_terminal(state):\n",
    "            max_value = float('-inf')\n",
    "            best_action = None\n",
    "            for action in mdp.get_possible_actions(state):\n",
    "                expected_value = 0\n",
    "                for next_state in mdp.get_next_states(state, action):\n",
    "                    transition_prob = mdp.get_transition_prob(state, action, next_state)\n",
    "                    reward = mdp.get_reward(state, action, next_state)\n",
    "                    expected_value = expected_value + transition_prob * (reward + discount_factor * value_function[next_state])\n",
    "                if expected_value > max_value:\n",
    "                    max_value = expected_value\n",
    "                    best_action = action\n",
    "            policy[state] = best_action\n",
    "\n",
    "    return policy\n",
    "\n",
    "policy = get_optimal_policy(mdp, value_function, discount_factor=0.9)\n",
    "print(policy)"
   ],
   "metadata": {
    "id": "xyhYuemqno_s",
    "ExecuteTime": {
     "end_time": "2024-11-21T10:58:57.905601Z",
     "start_time": "2024-11-21T10:58:57.902197Z"
    }
   },
   "outputs": [
    {
     "name": "stdout",
     "output_type": "stream",
     "text": [
      "{'s0': 'a1', 's1': 'a0', 's2': 'a0'}\n"
     ]
    }
   ],
   "execution_count": 33
  },
  {
   "metadata": {},
   "cell_type": "markdown",
   "source": ""
  },
  {
   "cell_type": "markdown",
   "source": [
    "**Question 4**\n",
    "\n",
    "Le policy optimal pour chaque état est : {'s0': 'a1', 's1': 'a0', 's2': 'a0'}\n",
    "\n",
    "\n",
    "Par exemple, pour s0, les actions possibles étaient s0 et s1, ici l'algorithme a trouvé que a1 était l'action la plus optimale car elle maximise les récompenses. Cela se vérifie visuellement avec la figure 1.\n",
    "\n",
    "De même pour les autres états...\n"
   ],
   "metadata": {
    "id": "Ua8lST97oexc"
   }
  },
  {
   "cell_type": "markdown",
   "source": [
    "**Question 5**\n",
    "\n",
    "Comme expliqué précédemment, pour s0, l'action optimale est a1 mais a1 conduit soit à s1 ou s2. On a donc pas encore cette information avec le policy."
   ],
   "metadata": {
    "id": "__txIesxogad"
   }
  },
  {
   "cell_type": "markdown",
   "source": [
    "# **Solving the MDP with Q-learning**"
   ],
   "metadata": {
    "id": "O-gX2sBwoo6D"
   }
  },
  {
   "cell_type": "markdown",
   "source": [
    "**Question 6**\n",
    "\n",
    "**Value iteration** : elle est faite en connaissant notre environnement <S, A, T, R> et on les utilise dans les formule de l'algorithms.\n",
    "\n",
    "**Q-learnin** : On se place dans le cas où on ne connaît pas notre environnement, donc <S, A> connues mais <T, R> inconnues. Ainsi on procède exploration en testant les actions , et apprend progressivement."
   ],
   "metadata": {
    "id": "QasZguK7ojrv"
   }
  },
  {
   "cell_type": "markdown",
   "source": [
    "**Question 7**\n",
    "\n",
    "La Q-table stocke des valeurs appelées Q-valeurs (Q(s, a)), qui représentent une estimation de la récompense totale que l’agent peut espérer obtenir en prenant une action a dans un état s, puis en agissant de manière optimale par la suite.\n",
    "\n",
    "Pendant l’apprentissage, l’agent explore l’environnement, met à jour la Q-table en fonction des résultats obtenus, et finit par apprendre quelles actions sont les meilleures dans chaque situation."
   ],
   "metadata": {
    "id": "0PGLYXcBo-ym"
   }
  },
  {
   "cell_type": "code",
   "source": [
    "def initialize_q_table(states, actions):\n",
    "    Q = {}\n",
    "    for state in states:\n",
    "        Q[state] = {}\n",
    "        for action in actions:\n",
    "            Q[state][action] = 0.0  # Initialize Q-values to 0\n",
    "    return Q"
   ],
   "metadata": {
    "id": "Oyo9kn0VnzYi",
    "ExecuteTime": {
     "end_time": "2024-11-21T10:58:57.908243Z",
     "start_time": "2024-11-21T10:58:57.906202Z"
    }
   },
   "outputs": [],
   "execution_count": 34
  },
  {
   "metadata": {
    "ExecuteTime": {
     "end_time": "2024-11-21T11:02:55.669061Z",
     "start_time": "2024-11-21T11:02:55.664430Z"
    }
   },
   "cell_type": "code",
   "source": [
    "Q = initialize_q_table(states, actions)\n",
    "print(Q)"
   ],
   "outputs": [
    {
     "name": "stdout",
     "output_type": "stream",
     "text": [
      "{'s0': {'a0': 0.0, 'a1': 0.0}, 's1': {'a0': 0.0, 'a1': 0.0}, 's2': {'a0': 0.0, 'a1': 0.0}}\n"
     ]
    }
   ],
   "execution_count": 48
  },
  {
   "cell_type": "markdown",
   "source": [
    "**Question 8**"
   ],
   "metadata": {
    "id": "kyI56cVApRjg"
   }
  },
  {
   "cell_type": "code",
   "source": [
    "def choose_action(state, Q, epsilon):\n",
    "   \n",
    "    if random.uniform(0, 1) < epsilon:\n",
    "        # Explore: choose a random action\n",
    "        action = random.choice(list(Q[state].keys()))\n",
    "    else:\n",
    "        # Exploit: choose the action with the highest Q-value\n",
    "        action = max(Q[state], key=Q[state].get)\n",
    "    return action"
   ],
   "metadata": {
    "id": "0dqGboXKn398",
    "ExecuteTime": {
     "end_time": "2024-11-21T10:58:57.911490Z",
     "start_time": "2024-11-21T10:58:57.909438Z"
    }
   },
   "outputs": [],
   "execution_count": 35
  },
  {
   "metadata": {
    "ExecuteTime": {
     "end_time": "2024-11-21T11:03:17.284100Z",
     "start_time": "2024-11-21T11:03:17.280998Z"
    }
   },
   "cell_type": "code",
   "source": [
    "epsilon=0.01\n",
    "action = choose_action('s0', Q, epsilon)\n",
    "action2 = choose_action('s1', Q, epsilon)"
   ],
   "outputs": [],
   "execution_count": 50
  },
  {
   "metadata": {
    "ExecuteTime": {
     "end_time": "2024-11-21T11:03:17.484171Z",
     "start_time": "2024-11-21T11:03:17.481372Z"
    }
   },
   "cell_type": "code",
   "source": [
    "print(action) # pour s0\n",
    "print(action2)\n"
   ],
   "outputs": [
    {
     "name": "stdout",
     "output_type": "stream",
     "text": [
      "a0\n",
      "a0\n"
     ]
    }
   ],
   "execution_count": 51
  },
  {
   "cell_type": "code",
   "source": [
    "def get_next_state_and_reward(state, action):\n",
    "    \"\"\"\n",
    "    Inputs:\n",
    "      state: the current state of the agent.\n",
    "      action: the action taken by the agent.\n",
    "\n",
    "    Returns:\n",
    "      next_state: the next state of the agent.\n",
    "      reward: the reward received for transitioning to the next state.\n",
    "    \"\"\"\n",
    "    # YOUR CODE HERE\n",
    "    next_state = mdp.get_next_state(state, action)\n",
    "    reward = mdp.get_reward(state, action, next_state)\n",
    "    return next_state, reward"
   ],
   "metadata": {
    "id": "fsfKEfWrn_SB",
    "ExecuteTime": {
     "end_time": "2024-11-21T11:02:00.618019Z",
     "start_time": "2024-11-21T11:02:00.608050Z"
    }
   },
   "outputs": [],
   "execution_count": 45
  },
  {
   "metadata": {
    "ExecuteTime": {
     "end_time": "2024-11-21T11:02:07.350368Z",
     "start_time": "2024-11-21T11:02:07.339060Z"
    }
   },
   "cell_type": "code",
   "source": [
    "next_state, reward = get_next_state_and_reward('s0', 'a1')\n",
    "print(next_state, reward)"
   ],
   "outputs": [
    {
     "name": "stdout",
     "output_type": "stream",
     "text": [
      "s1 2\n"
     ]
    }
   ],
   "execution_count": 46
  },
  {
   "cell_type": "code",
   "source": [
    "def q_learning(states, actions, rewards, episodes, max_steps_per_episode, alpha, epsilon, gamma):\n",
    "    \"\"\"\n",
    "    Inputs:\n",
    "      states: all possible states.\n",
    "      actions: all possible actions.\n",
    "      transition_probs: transition probabilities.\n",
    "      rewards: rewards for state-action-next_state transitions.\n",
    "      episodes: number of episodes to run.\n",
    "      max_steps_per_episode: maximum steps per episode.\n",
    "      alpha: learning rate.\n",
    "      epsilon: exploration rate.\n",
    "      gamma: discount factor.\n",
    "\n",
    "    Returns:\n",
    "      Q: The learned Q-table.\n",
    "      policy: The optimal policy derived from the Q-table.\n",
    "    \"\"\"\n",
    "    # Initialize the Q-table\n",
    "    Q = initialize_q_table(states, actions)\n",
    "\n",
    "    # Loop over episodes\n",
    "    for episode in range(episodes):\n",
    "        # Initialize the starting state\n",
    "        state = mdp.reset()\n",
    "\n",
    "        # Loop over steps within an episode\n",
    "        for step in range(max_steps_per_episode):\n",
    "            # Choose an action\n",
    "            action = choose_action(state, Q, epsilon)\n",
    "\n",
    "            # Take the action and observe the next state and reward\n",
    "            next_state, reward = get_next_state_and_reward(state, action)\n",
    "\n",
    "            # Update the Q-value for the current state-action pair\n",
    "            best_next_action = max(Q[next_state], key=Q[next_state].get)\n",
    "            td_target = reward + gamma * Q[next_state][best_next_action]\n",
    "            td_error = td_target - Q[state][action]\n",
    "            Q[state][action] = Q[state][action] + alpha * td_error\n",
    "\n",
    "            # Update the current state\n",
    "            state = next_state\n",
    "\n",
    "            # Check if the episode is done\n",
    "            if mdp.is_terminal(state):\n",
    "                break\n",
    "\n",
    "    # Extract the optimal policy from the Q-table\n",
    "    policy = {}\n",
    "    for state in states:\n",
    "        if not mdp.is_terminal(state):\n",
    "            policy[state] = max(Q[state], key=Q[state].get)\n",
    "\n",
    "    return Q, policy"
   ],
   "metadata": {
    "id": "SBCy49pFoEZ5",
    "ExecuteTime": {
     "end_time": "2024-11-21T11:01:24.612691Z",
     "start_time": "2024-11-21T11:01:24.604609Z"
    }
   },
   "outputs": [],
   "execution_count": 43
  },
  {
   "metadata": {
    "ExecuteTime": {
     "end_time": "2024-11-21T11:02:16.478621Z",
     "start_time": "2024-11-21T11:02:16.453522Z"
    }
   },
   "cell_type": "code",
   "source": [
    "Q, policy = q_learning(states, actions, rewards, episodes=100, max_steps_per_episode=100, alpha=0.1, epsilon=0.1, gamma=0.9)\n",
    "print(Q)\n",
    "print(policy)"
   ],
   "outputs": [
    {
     "name": "stdout",
     "output_type": "stream",
     "text": [
      "{'s0': {'a0': 5.566617572388547, 'a1': 16.209963229609173}, 's1': {'a0': 15.789473684210446, 'a1': 12.789473684176881}, 's2': {'a0': 14.210526315789394, 'a1': 12.78947368413398}}\n",
      "{'s0': 'a1', 's1': 'a0', 's2': 'a0'}\n"
     ]
    }
   ],
   "execution_count": 47
  },
  {
   "cell_type": "markdown",
   "source": "    **Question 9**",
   "metadata": {
    "id": "kuw_SMEapV33"
   }
  },
  {
   "cell_type": "markdown",
   "source": [
    "**Question 10**"
   ],
   "metadata": {
    "id": "iHiMfcHxpfrq"
   }
  },
  {
   "cell_type": "code",
   "source": [
    "# Plot the average rewards"
   ],
   "metadata": {
    "id": "q1EL28jAoJ2x"
   },
   "outputs": [],
   "execution_count": null
  },
  {
   "cell_type": "markdown",
   "source": [
    "**Question 11**"
   ],
   "metadata": {
    "id": "84jUc9KApoCu"
   }
  },
  {
   "cell_type": "markdown",
   "source": [
    "**Question 12**"
   ],
   "metadata": {
    "id": "42LKXBZappkI"
   }
  }
 ]
}
